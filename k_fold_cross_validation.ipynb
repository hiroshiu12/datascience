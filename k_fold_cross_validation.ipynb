{
 "cells": [
  {
   "cell_type": "markdown",
   "metadata": {},
   "source": [
    "# k-fold Cross validation\n",
    "In my usual work as a datascientist, one of the headache I have is deficiency of labeled data. In that case, effective method against it is *\"cross validation\" *. Actually there are several methods in cross-validation.\n",
    "- *K-fold cross-validation*\n",
    "- *Shuffle split cross-validation*\n",
    "- *Leave one out cross-validation*  \n",
    "\n",
    "Here I'm gonna handle \"K-fold cross-validation\"."
   ]
  },
  {
   "cell_type": "markdown",
   "metadata": {},
   "source": [
    "## 0. What is *K-fold validation*\n",
    "When performing *K-fold validation*, first of all, all labeled data is partitioned into *k* parts of equal size which is called *\"fold\"*. *k* is usually, specific number such as 5 or 10 and so on. Next, a sequence of model is trained. The first model is trained with first fold as test set, the remaining folds as train set. Then second model is built with secound fold as test set, the 1,3,4,5 folds as train sets. This precess is repeated using 3,4 and 5 fold as test set."
   ]
  },
  {
   "cell_type": "markdown",
   "metadata": {},
   "source": [
    "## 1. Benefit from k-fold validation\n",
    "So far as I know, roughly speaking, there are three benefit obtained from *k-fold validation* instead of a single split into train and test data.　 \n",
    "1. Each sample is supporsed to be in test set exactly onece, as each sample belongs to one of the folds, and each fold is the test set once. Therefore model is required to yild high cross validation score for all sample.  \n",
    "2. Provides the information how sensitive our model is to the selection of the train and test set.  \n",
    "3. We can use labeled data more effiectively than using single split of the data.  \n",
    "\n",
    "However you must the following in mind, \n",
    "- *cross-validation* is not the way to build a model that can be applied to new data.  \n",
    "- *cross-validation* increase computational cost."
   ]
  },
  {
   "cell_type": "markdown",
   "metadata": {},
   "source": [
    "## 2. K-fold validation in scikit-learn"
   ]
  },
  {
   "cell_type": "code",
   "execution_count": 76,
   "metadata": {
    "collapsed": true
   },
   "outputs": [],
   "source": [
    "from sklearn.model_selection import StratifiedKFold\n",
    "from sklearn.linear_model import LogisticRegression\n",
    "from sklearn.datasets import load_breast_cancer\n",
    "import sklearn.metrics as metrics\n",
    "import matplotlib.pyplot as plt\n",
    "import numpy as np\n",
    "import pandas as pd\n",
    "% matplotlib inline"
   ]
  },
  {
   "cell_type": "code",
   "execution_count": 4,
   "metadata": {
    "collapsed": true
   },
   "outputs": [],
   "source": [
    "cancer_dataset = load_breast_cancer()\n",
    "cancer_data = cancer_dataset.data\n",
    "cancer_target = cancer_dataset.target"
   ]
  },
  {
   "cell_type": "code",
   "execution_count": 29,
   "metadata": {},
   "outputs": [
    {
     "name": "stdout",
     "output_type": "stream",
     "text": [
      "There are 569 samples\n",
      "There are 357 datas of label \"1\"\n"
     ]
    }
   ],
   "source": [
    "# There are 569 samples\n",
    "print('There are {} samples'.format(cancer_target.shape[0]))\n",
    "print('There are {} datas of label \"1\"'.format(cancer_target.sum()))"
   ]
  },
  {
   "cell_type": "markdown",
   "metadata": {},
   "source": [
    "You can see \"StratifiedKFold\" offer dataset with same propotion as dataset."
   ]
  },
  {
   "cell_type": "code",
   "execution_count": 31,
   "metadata": {},
   "outputs": [
    {
     "name": "stdout",
     "output_type": "stream",
     "text": [
      "Number of train data : (454,)\n",
      "Number of test data :  (115,)\n",
      "Number of 1 label in train data: 72\n",
      "Number of train data : (454,)\n",
      "Number of test data :  (115,)\n",
      "Number of 1 label in train data: 72\n",
      "Number of train data : (456,)\n",
      "Number of test data :  (113,)\n",
      "Number of 1 label in train data: 71\n",
      "Number of train data : (456,)\n",
      "Number of test data :  (113,)\n",
      "Number of 1 label in train data: 71\n",
      "Number of train data : (456,)\n",
      "Number of test data :  (113,)\n",
      "Number of 1 label in train data: 71\n"
     ]
    }
   ],
   "source": [
    "# Tentatively k = 5.\n",
    "cross_val = StratifiedKFold(n_splits=5)\n",
    "for train,test in cross_val.split(cancer_data,cancer_target):\n",
    "    print('Number of train data :',train.shape)\n",
    "    print('Number of test data : ',test.shape)\n",
    "    print('Number of 1 label in train data:', cancer_target[test].sum())"
   ]
  },
  {
   "cell_type": "markdown",
   "metadata": {},
   "source": [
    "Next, I'm gonna draw ROC curve of *cross-validation*"
   ]
  },
  {
   "cell_type": "code",
   "execution_count": 75,
   "metadata": {},
   "outputs": [
    {
     "data": {
      "text/plain": [
       "<matplotlib.text.Text at 0x11061f4e0>"
      ]
     },
     "execution_count": 75,
     "metadata": {},
     "output_type": "execute_result"
    },
    {
     "data": {
      "image/png": "[encoded data removed]",
      "text/plain": [
       "<matplotlib.figure.Figure at 0x1104f2198>"
      ]
     },
     "metadata": {},
     "output_type": "display_data"
    }
   ],
   "source": [
    "# Prepare model of logistic regression\n",
    "logistic_model = LogisticRegression()\n",
    "\n",
    "mean_fpr = np.linspace(0,1,100)\n",
    "tprs = []\n",
    "precisions = []\n",
    "recalls = []\n",
    "i=0\n",
    "\n",
    "for train, test in cross_val.split(cancer_data,cancer_target):\n",
    "    X_train = cancer_data[train]\n",
    "    Y_train = cancer_target[train]\n",
    "    X_test = cancer_data[test]\n",
    "    Y_test = cancer_target[test]\n",
    "    fitted_model = logistic_model.fit(X_train,Y_train)\n",
    "    fpr,tpr,threshold = metrics.roc_curve(y_true=Y_test,y_score=fitted_model.predict_proba(X_test)[:,1])\n",
    "    # So as to compute micro average of tpr,fpr, store them.\n",
    "    tprs.append(np.interp(mean_fpr,fp=tpr,xp=fpr))\n",
    "    \n",
    "    roc_auc = metrics.auc(x=fpr,y=tpr)\n",
    "    \n",
    "    precisions.append(metrics.precision_score(y_true=Y_test,y_pred=fitted_model.predict(X_test)))\n",
    "    recalls.append(metrics.recall_score(Y_test,fitted_model.predict(X_test)))\n",
    "    plt.plot(fpr,tpr,alpha=0.3,label = 'ROC fold {} (AUC={:.2f})'.format(i,roc_auc))\n",
    "    \n",
    "\n",
    "# Compute 'micro' average of roc curve\n",
    "micro_av_tprs = np.mean(tprs,axis=0)\n",
    "\n",
    "plt.plot(mean_fpr,micro_av_tprs,label='Mean ROC',color='b')\n",
    "plt.plot([0,1],[0,1],linestyle='--',color='r')\n",
    "plt.legend(loc='lower right')\n",
    "plt.xlabel('false positive rate')\n",
    "plt.ylabel('true positive rate')\n",
    "plt.title('ROC curve')"
   ]
  },
  {
   "cell_type": "code",
   "execution_count": 82,
   "metadata": {},
   "outputs": [
    {
     "data": {
      "text/html": [
       "<div>\n",
       "<style>\n",
       "    .dataframe thead tr:only-child th {\n",
       "        text-align: right;\n",
       "    }\n",
       "\n",
       "    .dataframe thead th {\n",
       "        text-align: left;\n",
       "    }\n",
       "\n",
       "    .dataframe tbody tr th {\n",
       "        vertical-align: top;\n",
       "    }\n",
       "</style>\n",
       "<table border=\"1\" class=\"dataframe\">\n",
       "  <thead>\n",
       "    <tr style=\"text-align: right;\">\n",
       "      <th></th>\n",
       "      <th>precision</th>\n",
       "      <th>recall</th>\n",
       "    </tr>\n",
       "  </thead>\n",
       "  <tbody>\n",
       "    <tr>\n",
       "      <th>0</th>\n",
       "      <td>0.910256</td>\n",
       "      <td>0.986111</td>\n",
       "    </tr>\n",
       "    <tr>\n",
       "      <th>1</th>\n",
       "      <td>0.933333</td>\n",
       "      <td>0.972222</td>\n",
       "    </tr>\n",
       "    <tr>\n",
       "      <th>2</th>\n",
       "      <td>0.972222</td>\n",
       "      <td>0.985915</td>\n",
       "    </tr>\n",
       "    <tr>\n",
       "      <th>3</th>\n",
       "      <td>0.957746</td>\n",
       "      <td>0.957746</td>\n",
       "    </tr>\n",
       "    <tr>\n",
       "      <th>4</th>\n",
       "      <td>0.985507</td>\n",
       "      <td>0.957746</td>\n",
       "    </tr>\n",
       "  </tbody>\n",
       "</table>\n",
       "</div>"
      ],
      "text/plain": [
       "   precision    recall\n",
       "0   0.910256  0.986111\n",
       "1   0.933333  0.972222\n",
       "2   0.972222  0.985915\n",
       "3   0.957746  0.957746\n",
       "4   0.985507  0.957746"
      ]
     },
     "execution_count": 82,
     "metadata": {},
     "output_type": "execute_result"
    }
   ],
   "source": [
    "df_pre_rec = pd.DataFrame([precisions,recalls]).T\n",
    "df_pre_rec.columns = ['precision','recall']\n",
    "df_pre_rec.head()"
   ]
  }
 ],
 "metadata": {
  "kernelspec": {
   "display_name": "Python 3",
   "language": "python",
   "name": "python3"
  },
  "language_info": {
   "codemirror_mode": {
    "name": "ipython",
    "version": 3
   },
   "file_extension": ".py",
   "mimetype": "text/x-python",
   "name": "python",
   "nbconvert_exporter": "python",
   "pygments_lexer": "ipython3",
   "version": "3.6.1"
  }
 },
 "nbformat": 4,
 "nbformat_minor": 2
}
